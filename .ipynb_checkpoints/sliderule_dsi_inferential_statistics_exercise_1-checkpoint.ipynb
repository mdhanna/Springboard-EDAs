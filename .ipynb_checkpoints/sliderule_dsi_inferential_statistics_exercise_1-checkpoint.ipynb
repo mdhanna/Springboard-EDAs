{
 "cells": [
  {
   "cell_type": "markdown",
   "metadata": {},
   "source": [
    "# What is the True Normal Human Body Temperature? \n",
    "\n",
    "#### Background\n",
    "\n",
    "The mean normal body temperature was held to be 37$^{\\circ}$C or 98.6$^{\\circ}$F for more than 120 years since it was first conceptualized and reported by Carl Wunderlich in a famous 1868 book. But, is this value statistically correct?"
   ]
  },
  {
   "cell_type": "markdown",
   "metadata": {},
   "source": [
    "<div class=\"span5 alert alert-info\">\n",
    "<h3>Exercises</h3>\n",
    "\n",
    "<p>In this exercise, you will analyze a dataset of human body temperatures and employ the concepts of hypothesis testing, confidence intervals, and statistical significance.</p>\n",
    "\n",
    "<p>Answer the following questions <b>in this notebook below and submit to your Github account</b>.</p> \n",
    "\n",
    "<ol>\n",
    "<li>  Is the distribution of body temperatures normal? \n",
    "    <ul>\n",
    "    <li> Although this is not a requirement for CLT to hold (read CLT carefully), it gives us some peace of mind that the population may also be normally distributed if we assume that this sample is representative of the population.\n",
    "    </ul>\n",
    "<li>  Is the sample size large? Are the observations independent?\n",
    "    <ul>\n",
    "    <li> Remember that this is a condition for the CLT, and hence the statistical tests we are using, to apply.\n",
    "    </ul>\n",
    "<li>  Is the true population mean really 98.6 degrees F?\n",
    "    <ul>\n",
    "    <li> Would you use a one-sample or two-sample test? Why?\n",
    "    <li> In this situation, is it appropriate to use the $t$ or $z$ statistic? \n",
    "    <li> Now try using the other test. How is the result be different? Why?\n",
    "    </ul>\n",
    "<li>  At what temperature should we consider someone's temperature to be \"abnormal\"?\n",
    "    <ul>\n",
    "    <li> Start by computing the margin of error and confidence interval.\n",
    "    </ul>\n",
    "<li>  Is there a significant difference between males and females in normal temperature?\n",
    "    <ul>\n",
    "    <li> What test did you use and why?\n",
    "    <li> Write a story with your conclusion in the context of the original problem.\n",
    "    </ul>\n",
    "</ol>\n",
    "\n",
    "You can include written notes in notebook cells using Markdown: \n",
    "   - In the control panel at the top, choose Cell > Cell Type > Markdown"
   ]
  },
  {
   "cell_type": "code",
   "execution_count": 1,
   "metadata": {
    "collapsed": true
   },
   "outputs": [],
   "source": [
    "import pandas as pd\n",
    "\n",
    "df = pd.read_csv('data/human_body_temperature.csv')"
   ]
  },
  {
   "cell_type": "markdown",
   "metadata": {},
   "source": [
    "### Question 1 "
   ]
  },
  {
   "cell_type": "markdown",
   "metadata": {},
   "source": [
    "To determine if this data has a normal distribution, let's first look at the shape of the graph when plotted as a histogram."
   ]
  },
  {
   "cell_type": "code",
   "execution_count": 56,
   "metadata": {
    "collapsed": false
   },
   "outputs": [
    {
     "data": {
      "image/png": "[encoded data removed]",
      "text/plain": [
       "<matplotlib.figure.Figure at 0x1c4a9e29240>"
      ]
     },
     "metadata": {},
     "output_type": "display_data"
    }
   ],
   "source": [
    "%matplotlib inline\n",
    "import matplotlib\n",
    "import matplotlib.pyplot as plt\n",
    "\n",
    "#Plot histogram for a bin size of 0.1 degrees\n",
    "binNum = int((df['temperature'].max() - df['temperature'].min()) / 0.1)\n",
    "df['temperature'].plot(kind='hist', bins = binNum);\n",
    "plt.xlabel('Degrees');\n",
    "plt.title('Human Temperature Distribution');"
   ]
  },
  {
   "cell_type": "markdown",
   "metadata": {},
   "source": [
    "The graph somewhat adheres to the classic \"bell curve\" that one would expect from a normal distribution but let's perform a formal test to be sure."
   ]
  },
  {
   "cell_type": "code",
   "execution_count": 58,
   "metadata": {
    "collapsed": false
   },
   "outputs": [
    {
     "data": {
      "text/plain": [
       "NormaltestResult(statistic=2.7038014333192031, pvalue=0.2587479863488254)"
      ]
     },
     "execution_count": 58,
     "metadata": {},
     "output_type": "execute_result"
    }
   ],
   "source": [
    "import scipy.stats\n",
    "scipy.stats.normaltest(df['temperature'])"
   ]
  },
  {
   "cell_type": "markdown",
   "metadata": {},
   "source": [
    "With a p-value greater than 0.05 (assuming a signifance level of 5%), we can retain the null hypothesis that this data approximates a normal distribution."
   ]
  },
  {
   "cell_type": "markdown",
   "metadata": {},
   "source": [
    "### Question 2"
   ]
  },
  {
   "cell_type": "markdown",
   "metadata": {},
   "source": [
    "What is the size of the sample?"
   ]
  },
  {
   "cell_type": "code",
   "execution_count": 30,
   "metadata": {
    "collapsed": false
   },
   "outputs": [
    {
     "data": {
      "text/plain": [
       "130"
      ]
     },
     "execution_count": 30,
     "metadata": {},
     "output_type": "execute_result"
    }
   ],
   "source": [
    "dataCount"
   ]
  },
  {
   "cell_type": "markdown",
   "metadata": {},
   "source": [
    "This is not a very large sample size but is sufficient to avoid the t-statistic test (n > 30).  We can safely assume these observations are independent."
   ]
  },
  {
   "cell_type": "markdown",
   "metadata": {},
   "source": [
    "### Question 3"
   ]
  },
  {
   "cell_type": "markdown",
   "metadata": {},
   "source": [
    "We would use the one-sample test as we are not (currently) comparing between two groups. Although we have a large enough sample size (n > 30) for the z-statistic and a normally distributed data set, we do not know the standard deviation of the population. Therefore, the t-statistic is the right choice for this situation.  Let's calculate the t-statistic for a temperature of 98.6 degrees:"
   ]
  },
  {
   "cell_type": "code",
   "execution_count": 86,
   "metadata": {
    "collapsed": false
   },
   "outputs": [
    {
     "name": "stdout",
     "output_type": "stream",
     "text": [
      "t-statistic = -5.454823292364079\n"
     ]
    }
   ],
   "source": [
    "import math\n",
    "tScore = (tempMean - 98.6) / (tempStd / math.sqrt(dataCount))\n",
    "print('t-statistic =', tScore)"
   ]
  },
  {
   "cell_type": "markdown",
   "metadata": {},
   "source": [
    "For a two-tailed t-test at a significance level of 5%, we need to find what the t-value is for a probability of 97.5% since probability is cumulative in a t-table.  This will give us the t-value at which or above which 2.5% of the curve is more extreme, and we can find the opposite of that t-value to determine the 2.5% on the other side of the curve at which or below which is more extreme than the 95% we are interested in. \n",
    "\n",
    "Using an online calculater as most t-tables do not include 129 degrees of freedom, we find that a t-value of 1.979 is returned at a cumulative probability of 97.5%.  Therefore the 95% confidence range is bounded by -1.979 and 1.979.  We are very much out of this range with a t-score at -5.45.  Thus, we can reject the null hypothesis that 96.8 degrees is the mean of the population.\n",
    "\n",
    "We can also test this using scipy.stats."
   ]
  },
  {
   "cell_type": "code",
   "execution_count": 63,
   "metadata": {
    "collapsed": false
   },
   "outputs": [
    {
     "data": {
      "text/plain": [
       "Ttest_1sampResult(statistic=-5.4548232923645195, pvalue=2.4106320415561276e-07)"
      ]
     },
     "execution_count": 63,
     "metadata": {},
     "output_type": "execute_result"
    }
   ],
   "source": [
    "scipy.stats.ttest_1samp(df['temperature'], 98.6)"
   ]
  },
  {
   "cell_type": "markdown",
   "metadata": {},
   "source": [
    "With such a tiny p-value, we can again safely reject the null hypothesis.\n",
    "\n",
    "How does this compare when we run these calculations with a z-score?  The z-score is calculated using the same equation as the t-score."
   ]
  },
  {
   "cell_type": "code",
   "execution_count": 62,
   "metadata": {
    "collapsed": false
   },
   "outputs": [
    {
     "name": "stdout",
     "output_type": "stream",
     "text": [
      "t-statistic = -5.454823292364079\n"
     ]
    }
   ],
   "source": [
    "print('t-statistic =', zScore)"
   ]
  },
  {
   "cell_type": "markdown",
   "metadata": {},
   "source": [
    "To determine if an average temperature of 98.6 degrees is appropriate for the population, we will set a significance level of 5%.  We will use a two-tailed test since we want to understand if 98.6 degrees is **either** too low **or** too high as the population mean.  A two-tailed test with a significance level of 5% results in a rejection of the null hypothesis when the calculated z-score falls either below -1.96 or above 1.96.  Clearly, our z-score is outside of these bounds.  Therefore, we can reject the null hypothesis that 98.6 degrees is an accurate mean of human body temperatures. "
   ]
  },
  {
   "cell_type": "markdown",
   "metadata": {},
   "source": [
    "### Question 4"
   ]
  },
  {
   "cell_type": "markdown",
   "metadata": {},
   "source": [
    "Let's assume that \"abnormal\" refers to those whose temperatures fall outside the 95% range on the histogram.  In other words, those who have temperatures in the bottom 2.5% and the top 2.5% of the distribution.  We know from our earlier work that a z-score of above 1.96 or below -1.96 would represent these abnormal regions.  The z-score is the number of standard deviations from the mean so we can simply multiply the sample standard error by the z-score to find these boundaries."
   ]
  },
  {
   "cell_type": "code",
   "execution_count": 73,
   "metadata": {
    "collapsed": false
   },
   "outputs": [
    {
     "name": "stdout",
     "output_type": "stream",
     "text": [
      "range = (98.12319411222852, 98.37526742623304)\n"
     ]
    }
   ],
   "source": [
    "print('range =', (-1.96 * tempStd / math.sqrt(dataCount) + tempMean, 1.96 * tempStd / math.sqrt(dataCount) + tempMean))"
   ]
  },
  {
   "cell_type": "markdown",
   "metadata": {},
   "source": [
    "Again we can check this using the scipy.stats package."
   ]
  },
  {
   "cell_type": "code",
   "execution_count": 76,
   "metadata": {
    "collapsed": false
   },
   "outputs": [
    {
     "data": {
      "text/plain": [
       "(98.123196428181657, 98.375265110279898)"
      ]
     },
     "execution_count": 76,
     "metadata": {},
     "output_type": "execute_result"
    }
   ],
   "source": [
    "scipy.stats.norm.interval(0.95, tempMean, tempStd / math.sqrt(dataCount))"
   ]
  },
  {
   "cell_type": "markdown",
   "metadata": {},
   "source": [
    "Having a temperature below 98.12 degrees or above 98.38 degrees would classify as abnormal."
   ]
  },
  {
   "cell_type": "markdown",
   "metadata": {},
   "source": [
    "### Question 5"
   ]
  },
  {
   "cell_type": "markdown",
   "metadata": {},
   "source": [
    "To find if there is a statistical difference between male and female normal temperatures, we'll need to perform a two-sample t-test as we are now comparing between groups.  We can define the null hypothesis as there is no difference between the normal temperature of males and females. "
   ]
  },
  {
   "cell_type": "code",
   "execution_count": 88,
   "metadata": {
    "collapsed": false
   },
   "outputs": [
    {
     "name": "stdout",
     "output_type": "stream",
     "text": [
      "t-score = -2.285434538165274\n",
      "Degrees of freedom = 127\n"
     ]
    }
   ],
   "source": [
    "male = df[df['gender'] == 'M']\n",
    "female = df[df['gender'] == 'F']\n",
    "maleCount = male['temperature'].count()\n",
    "femaleCount = female['temperature'].count()\n",
    "\n",
    "#Calculate the t-score assuming the difference between the means is zero\n",
    "variance = male['temperature'].std()**2 / maleCount + female['temperature'].std()**2 / femaleCount\n",
    "genderTScore = (male['temperature'].mean() - female['temperature'].mean()) / math.sqrt(variance)\n",
    "DF = variance ** 2 / ((male['temperature'].std()**2 / maleCount)**2 / (maleCount - 1) + (female['temperature'].std()**2 / femaleCount)**2 / (femaleCount - 1))\n",
    "print('t-score =', genderTScore)\n",
    "print('Degrees of freedom =', int(DF))"
   ]
  },
  {
   "cell_type": "markdown",
   "metadata": {},
   "source": [
    "This t-score corresponds to a probability of 0.0118 but since this is a two-tailed test, we double it to 0.0236.  Therefore, there is a 2.36% chance that males and females have no difference in their normal temperature.  Since this is below 5%, we can reject the null hypothesis and conclude that males and females vary from each other in their normal temperature."
   ]
  },
  {
   "cell_type": "code",
   "execution_count": null,
   "metadata": {
    "collapsed": true
   },
   "outputs": [],
   "source": []
  }
 ],
 "metadata": {
  "kernelspec": {
   "display_name": "Python 3",
   "language": "python",
   "name": "python3"
  },
  "language_info": {
   "codemirror_mode": {
    "name": "ipython",
    "version": 3
   },
   "file_extension": ".py",
   "mimetype": "text/x-python",
   "name": "python",
   "nbconvert_exporter": "python",
   "pygments_lexer": "ipython3",
   "version": "3.6.0"
  }
 },
 "nbformat": 4,
 "nbformat_minor": 0
}
